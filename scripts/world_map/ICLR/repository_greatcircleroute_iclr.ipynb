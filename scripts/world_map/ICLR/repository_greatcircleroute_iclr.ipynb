{
 "cells": [
  {
   "cell_type": "code",
   "execution_count": 8,
   "metadata": {},
   "outputs": [
    {
     "name": "stdout",
     "output_type": "stream",
     "text": [
      "Once deleted, variables cannot be recovered. Proceed (y/[n])? y\n"
     ]
    }
   ],
   "source": [
    "%reset"
   ]
  },
  {
   "cell_type": "code",
   "execution_count": 9,
   "metadata": {},
   "outputs": [],
   "source": [
    "year=2020"
   ]
  },
  {
   "cell_type": "code",
   "execution_count": 10,
   "metadata": {},
   "outputs": [],
   "source": [
    "from geographiclib.geodesic import Geodesic\n",
    "import pandas as pd\n",
    "from lxml import etree as ET\n",
    "import os"
   ]
  },
  {
   "cell_type": "code",
   "execution_count": 11,
   "metadata": {},
   "outputs": [],
   "source": [
    "###set working directory\n",
    "os.chdir('insert directory here')"
   ]
  },
  {
   "cell_type": "code",
   "execution_count": 12,
   "metadata": {},
   "outputs": [],
   "source": [
    "#set up kml structure:\n",
    "kml = ET.Element('kml')\n",
    "document = ET.SubElement(kml, 'Document')\n",
    "\n",
    "#read data\n",
    "data = pd.read_csv(os.getcwd() + '/data/footprint_cost/ICLR/footprint_calcs_output/attendee_footprint_cost_ICLR.csv')\n",
    "data=data.loc[data['Year']==year]\n",
    "data=data.loc[data['Number']!=0]"
   ]
  },
  {
   "cell_type": "code",
   "execution_count": 14,
   "metadata": {},
   "outputs": [],
   "source": [
    "for x in (data.index):\n",
    "    olat = data.loc[x,'Origin_Latitude']\n",
    "    olon = data.loc[x,'Origin_Longitude']\n",
    "    dlat = data.loc[x,'Destination_Latitude']\n",
    "    dlon = data.loc[x,'Destination_Longitude']\n",
    "    route = data.loc[x,'Work Location']\n",
    "       \n",
    "    p=Geodesic.WGS84.Inverse(olat, olon, dlat, dlon)\n",
    "    l=Geodesic.WGS84.Line(p['lat1'],p['lon1'],p['azi1'])\n",
    "    if (p['s12'] >= 1000000):\n",
    "        num = int (p['s12']/100000)  #number of waypoints depending on length\n",
    "    else:\n",
    "        num=10\n",
    "    output=''\n",
    "    for i in range(num+1):\n",
    "        b=l.Position(i*p['s12']/num, Geodesic.STANDARD | Geodesic.LONG_UNROLL)\n",
    "        output += repr(b['lon2']) + \",\" + repr(b['lat2']) + \",0 \"\n",
    "    \n",
    "    \n",
    "    # inner part of kml file:\n",
    "    placemark = ET.SubElement(document, 'Placemark')\n",
    "   \n",
    "    name = ET.SubElement(placemark, 'name')\n",
    "    name.text = route\n",
    "    description = ET.SubElement(placemark, 'description')\n",
    "    description.text = 'route ID: '+str(x)+'; distance: '+str(p['s12'])\n",
    "    linestring = ET.SubElement(placemark, 'LineString')\n",
    "    coordinates = ET.SubElement(linestring, 'coordinates')\n",
    "    coordinates.text = output\n",
    "\n",
    "    #complete kml file and save:\n",
    "    tree = ET.ElementTree(kml)\n",
    "    tree.write(os.getcwd() + '/figures/Fig 1/data/flight_paths/greatcircleflights_ICLR_' + str(year) + '.kml', pretty_print=True, xml_declaration=True,   encoding=\"utf-8\")"
   ]
  }
 ],
 "metadata": {
  "kernelspec": {
   "display_name": "Python 3",
   "language": "python",
   "name": "python3"
  },
  "language_info": {
   "codemirror_mode": {
    "name": "ipython",
    "version": 3
   },
   "file_extension": ".py",
   "mimetype": "text/x-python",
   "name": "python",
   "nbconvert_exporter": "python",
   "pygments_lexer": "ipython3",
   "version": "3.7.6"
  }
 },
 "nbformat": 4,
 "nbformat_minor": 4
}
